{
 "cells": [
  {
   "cell_type": "markdown",
   "metadata": {
    "toc": true
   },
   "source": [
    "<h1>Table of Contents<span class=\"tocSkip\"></span></h1>\n",
    "<div class=\"toc\"><ul class=\"toc-item\"><li><span><a href=\"#Association-Rule-Mining-Metode-Apriori-Menggunakan-mlxtend\" data-toc-modified-id=\"Association-Rule-Mining-Metode-Apriori-Menggunakan-mlxtend-1\">Association Rule Mining Metode Apriori Menggunakan mlxtend</a></span><ul class=\"toc-item\"><li><span><a href=\"#Exploratory-Data-Analysis\" data-toc-modified-id=\"Exploratory-Data-Analysis-1.1\">Exploratory Data Analysis</a></span></li><li><span><a href=\"#Cek-Struktur-Dataset\" data-toc-modified-id=\"Cek-Struktur-Dataset-1.2\">Cek Struktur Dataset</a></span><ul class=\"toc-item\"><li><span><a href=\"#Cek-Duplicate-Value\" data-toc-modified-id=\"Cek-Duplicate-Value-1.2.1\">Cek Duplicate Value</a></span></li><li><span><a href=\"#Cek-Missing-Value\" data-toc-modified-id=\"Cek-Missing-Value-1.2.2\">Cek Missing Value</a></span></li><li><span><a href=\"#Cek-Produk-Terlaris\" data-toc-modified-id=\"Cek-Produk-Terlaris-1.2.3\">Cek Produk Terlaris</a></span></li></ul></li><li><span><a href=\"#Data-Preprocessing\" data-toc-modified-id=\"Data-Preprocessing-1.3\">Data Preprocessing</a></span><ul class=\"toc-item\"><li><span><a href=\"#Drop-Feature-Date-&amp;-Time\" data-toc-modified-id=\"Drop-Feature-Date-&amp;-Time-1.3.1\">Drop Feature Date &amp; Time</a></span></li><li><span><a href=\"#Drop-Transaksi-dengan-Item-NONE\" data-toc-modified-id=\"Drop-Transaksi-dengan-Item-NONE-1.3.2\">Drop Transaksi dengan Item NONE</a></span></li><li><span><a href=\"#Penyesuaian-Struktur-Dataset\" data-toc-modified-id=\"Penyesuaian-Struktur-Dataset-1.3.3\">Penyesuaian Struktur Dataset</a></span></li></ul></li><li><span><a href=\"#Implementasi-Apriori\" data-toc-modified-id=\"Implementasi-Apriori-1.4\">Implementasi Apriori</a></span><ul class=\"toc-item\"><li><span><a href=\"#Encode-Item-Transaksi\" data-toc-modified-id=\"Encode-Item-Transaksi-1.4.1\">Encode Item Transaksi</a></span></li><li><span><a href=\"#Cari-Itemsets-dengan-support->=-min_support\" data-toc-modified-id=\"Cari-Itemsets-dengan-support->=-min_support-1.4.2\">Cari Itemsets dengan support &gt;= min_support</a></span></li><li><span><a href=\"#Cari-Association-Rule\" data-toc-modified-id=\"Cari-Association-Rule-1.4.3\">Cari Association Rule</a></span></li></ul></li><li><span><a href=\"#Referensi\" data-toc-modified-id=\"Referensi-1.5\">Referensi</a></span></li></ul></li></ul></div>"
   ]
  },
  {
   "cell_type": "markdown",
   "metadata": {},
   "source": [
    "# Association Rule Mining Metode Apriori Menggunakan mlxtend"
   ]
  },
  {
   "cell_type": "code",
   "execution_count": 1,
   "metadata": {},
   "outputs": [],
   "source": [
    "# import library\n",
    "import pandas as pd\n",
    "import numpy as np"
   ]
  },
  {
   "cell_type": "code",
   "execution_count": 2,
   "metadata": {},
   "outputs": [],
   "source": [
    "# save dataset location\n",
    "dataset_path = \"../input/BreadBasket_DMS.csv\"\n",
    "\n",
    "# load dataset\n",
    "df = pd.read_csv(dataset_path)"
   ]
  },
  {
   "cell_type": "markdown",
   "metadata": {},
   "source": [
    "## Exploratory Data Analysis"
   ]
  },
  {
   "cell_type": "markdown",
   "metadata": {},
   "source": [
    "Bagian ini menampilkan hasil eksplorasi secara sederhana mengenai dataset."
   ]
  },
  {
   "cell_type": "markdown",
   "metadata": {},
   "source": [
    "## Cek Struktur Dataset"
   ]
  },
  {
   "cell_type": "code",
   "execution_count": 3,
   "metadata": {},
   "outputs": [
    {
     "data": {
      "text/html": [
       "<div>\n",
       "<style scoped>\n",
       "    .dataframe tbody tr th:only-of-type {\n",
       "        vertical-align: middle;\n",
       "    }\n",
       "\n",
       "    .dataframe tbody tr th {\n",
       "        vertical-align: top;\n",
       "    }\n",
       "\n",
       "    .dataframe thead th {\n",
       "        text-align: right;\n",
       "    }\n",
       "</style>\n",
       "<table border=\"1\" class=\"dataframe\">\n",
       "  <thead>\n",
       "    <tr style=\"text-align: right;\">\n",
       "      <th></th>\n",
       "      <th>Date</th>\n",
       "      <th>Time</th>\n",
       "      <th>Transaction</th>\n",
       "      <th>Item</th>\n",
       "    </tr>\n",
       "  </thead>\n",
       "  <tbody>\n",
       "    <tr>\n",
       "      <th>0</th>\n",
       "      <td>2016-10-30</td>\n",
       "      <td>09:58:11</td>\n",
       "      <td>1</td>\n",
       "      <td>Bread</td>\n",
       "    </tr>\n",
       "    <tr>\n",
       "      <th>1</th>\n",
       "      <td>2016-10-30</td>\n",
       "      <td>10:05:34</td>\n",
       "      <td>2</td>\n",
       "      <td>Scandinavian</td>\n",
       "    </tr>\n",
       "    <tr>\n",
       "      <th>2</th>\n",
       "      <td>2016-10-30</td>\n",
       "      <td>10:05:34</td>\n",
       "      <td>2</td>\n",
       "      <td>Scandinavian</td>\n",
       "    </tr>\n",
       "    <tr>\n",
       "      <th>3</th>\n",
       "      <td>2016-10-30</td>\n",
       "      <td>10:07:57</td>\n",
       "      <td>3</td>\n",
       "      <td>Hot chocolate</td>\n",
       "    </tr>\n",
       "    <tr>\n",
       "      <th>4</th>\n",
       "      <td>2016-10-30</td>\n",
       "      <td>10:07:57</td>\n",
       "      <td>3</td>\n",
       "      <td>Jam</td>\n",
       "    </tr>\n",
       "    <tr>\n",
       "      <th>5</th>\n",
       "      <td>2016-10-30</td>\n",
       "      <td>10:07:57</td>\n",
       "      <td>3</td>\n",
       "      <td>Cookies</td>\n",
       "    </tr>\n",
       "    <tr>\n",
       "      <th>6</th>\n",
       "      <td>2016-10-30</td>\n",
       "      <td>10:08:41</td>\n",
       "      <td>4</td>\n",
       "      <td>Muffin</td>\n",
       "    </tr>\n",
       "    <tr>\n",
       "      <th>7</th>\n",
       "      <td>2016-10-30</td>\n",
       "      <td>10:13:03</td>\n",
       "      <td>5</td>\n",
       "      <td>Coffee</td>\n",
       "    </tr>\n",
       "    <tr>\n",
       "      <th>8</th>\n",
       "      <td>2016-10-30</td>\n",
       "      <td>10:13:03</td>\n",
       "      <td>5</td>\n",
       "      <td>Pastry</td>\n",
       "    </tr>\n",
       "    <tr>\n",
       "      <th>9</th>\n",
       "      <td>2016-10-30</td>\n",
       "      <td>10:13:03</td>\n",
       "      <td>5</td>\n",
       "      <td>Bread</td>\n",
       "    </tr>\n",
       "  </tbody>\n",
       "</table>\n",
       "</div>"
      ],
      "text/plain": [
       "         Date      Time  Transaction           Item\n",
       "0  2016-10-30  09:58:11            1          Bread\n",
       "1  2016-10-30  10:05:34            2   Scandinavian\n",
       "2  2016-10-30  10:05:34            2   Scandinavian\n",
       "3  2016-10-30  10:07:57            3  Hot chocolate\n",
       "4  2016-10-30  10:07:57            3            Jam\n",
       "5  2016-10-30  10:07:57            3        Cookies\n",
       "6  2016-10-30  10:08:41            4         Muffin\n",
       "7  2016-10-30  10:13:03            5         Coffee\n",
       "8  2016-10-30  10:13:03            5         Pastry\n",
       "9  2016-10-30  10:13:03            5          Bread"
      ]
     },
     "execution_count": 3,
     "metadata": {},
     "output_type": "execute_result"
    }
   ],
   "source": [
    "df.head(10)"
   ]
  },
  {
   "cell_type": "markdown",
   "metadata": {},
   "source": [
    "Dataset terdiri dari 4 feature. Feature **Date** dan **Time** akan kita drop karena tidak diperlukan untuk analisis ARM. \n",
    "\n",
    "Pada transaksi dapat kita lihat ada transaksi yang memuat 1 item saja seperti **Transaction 1**. Dan juga ada transaksi dengan item yang sama seperti **Transaction 2**. "
   ]
  },
  {
   "cell_type": "markdown",
   "metadata": {},
   "source": [
    "### Cek Duplicate Value"
   ]
  },
  {
   "cell_type": "code",
   "execution_count": 4,
   "metadata": {},
   "outputs": [
    {
     "data": {
      "text/plain": [
       "1653"
      ]
     },
     "execution_count": 4,
     "metadata": {},
     "output_type": "execute_result"
    }
   ],
   "source": [
    "df.duplicated().sum()"
   ]
  },
  {
   "cell_type": "markdown",
   "metadata": {},
   "source": [
    "Ada 1653 instance yang duplicate. Instance duplicate ini menunjukkan bahwa ada item yang dibeli lebih dari 1 kali pada transaksi yang sama."
   ]
  },
  {
   "cell_type": "markdown",
   "metadata": {},
   "source": [
    "### Cek Missing Value"
   ]
  },
  {
   "cell_type": "code",
   "execution_count": 5,
   "metadata": {},
   "outputs": [
    {
     "data": {
      "text/plain": [
       "Date           0\n",
       "Time           0\n",
       "Transaction    0\n",
       "Item           0\n",
       "dtype: int64"
      ]
     },
     "execution_count": 5,
     "metadata": {},
     "output_type": "execute_result"
    }
   ],
   "source": [
    "df.isna().sum()"
   ]
  },
  {
   "cell_type": "markdown",
   "metadata": {},
   "source": [
    "Tidak ada missing value pada dataset."
   ]
  },
  {
   "cell_type": "markdown",
   "metadata": {},
   "source": [
    "### Cek Produk Terlaris"
   ]
  },
  {
   "cell_type": "code",
   "execution_count": 6,
   "metadata": {},
   "outputs": [
    {
     "data": {
      "text/plain": [
       "Coffee           5471\n",
       "Bread            3325\n",
       "Tea              1435\n",
       "Cake             1025\n",
       "Pastry            856\n",
       "NONE              786\n",
       "Sandwich          771\n",
       "Medialuna         616\n",
       "Hot chocolate     590\n",
       "Cookies           540\n",
       "Name: Item, dtype: int64"
      ]
     },
     "execution_count": 6,
     "metadata": {},
     "output_type": "execute_result"
    }
   ],
   "source": [
    "# save item frequencies\n",
    "top_selling = df.Item.value_counts()\n",
    "\n",
    "# top 10 most sold products\n",
    "top_selling.head(10)"
   ]
  },
  {
   "cell_type": "markdown",
   "metadata": {},
   "source": [
    "Dari 10 produk terlaris, ada produk bernama **NONE**. Item NONE ini mungkin terjadi karena kesalahan penginputan item transaksi. Kita akan menghapusnya dari dataset. "
   ]
  },
  {
   "cell_type": "markdown",
   "metadata": {},
   "source": [
    "## Data Preprocessing"
   ]
  },
  {
   "cell_type": "markdown",
   "metadata": {},
   "source": [
    "### Drop Feature Date & Time"
   ]
  },
  {
   "cell_type": "code",
   "execution_count": 7,
   "metadata": {},
   "outputs": [],
   "source": [
    "# drop feature date and time\n",
    "df.drop(columns=['Date', 'Time'], \n",
    "        inplace=True)"
   ]
  },
  {
   "cell_type": "markdown",
   "metadata": {},
   "source": [
    "### Drop Transaksi dengan Item NONE"
   ]
  },
  {
   "cell_type": "markdown",
   "metadata": {},
   "source": [
    "Transaksi dengan item NONE dihapus dengan mencari index transaksi tersebut. Dengan informasi index transaksi, fungsi drop akan menghapus transaksi tersebut."
   ]
  },
  {
   "cell_type": "code",
   "execution_count": 8,
   "metadata": {},
   "outputs": [
    {
     "data": {
      "text/plain": [
       "(786,)"
      ]
     },
     "execution_count": 8,
     "metadata": {},
     "output_type": "execute_result"
    }
   ],
   "source": [
    "# save index where Item == NONE\n",
    "index_of_none = df[ df.Item == 'NONE' ].index\n",
    "\n",
    "# dimension of  instance where item == NONE \n",
    "index_of_none.shape"
   ]
  },
  {
   "cell_type": "code",
   "execution_count": 9,
   "metadata": {},
   "outputs": [],
   "source": [
    "# drop instance according to index_of_none\n",
    "df.drop(index=index_of_none, \n",
    "        inplace=True)"
   ]
  },
  {
   "cell_type": "markdown",
   "metadata": {},
   "source": [
    "### Penyesuaian Struktur Dataset"
   ]
  },
  {
   "cell_type": "markdown",
   "metadata": {},
   "source": [
    "Library **mlxtend** mengharuskan dataset dalam bentuk list-of-list. Dimana dataset adalah list terluar dan transaksi adalah list didalamnya."
   ]
  },
  {
   "cell_type": "code",
   "execution_count": 10,
   "metadata": {},
   "outputs": [
    {
     "data": {
      "text/plain": [
       "array([   1,    2,    3, ..., 9682, 9683, 9684], dtype=int64)"
      ]
     },
     "execution_count": 10,
     "metadata": {},
     "output_type": "execute_result"
    }
   ],
   "source": [
    "# id transaksi unik\n",
    "transaksi_unik = df.Transaction.unique()\n",
    "transaksi_unik"
   ]
  },
  {
   "cell_type": "code",
   "execution_count": 11,
   "metadata": {},
   "outputs": [
    {
     "data": {
      "text/plain": [
       "9465"
      ]
     },
     "execution_count": 11,
     "metadata": {},
     "output_type": "execute_result"
    }
   ],
   "source": [
    "# jumlah id transaksi\n",
    "n_transaksi = df.Transaction.nunique()\n",
    "n_transaksi"
   ]
  },
  {
   "cell_type": "code",
   "execution_count": 12,
   "metadata": {},
   "outputs": [],
   "source": [
    "list_transaksi = []\n",
    "\n",
    "for id in transaksi_unik:\n",
    "    \n",
    "    # set agar item di transaksi tidak duplikat    \n",
    "    transaksi = set( df[ df.Transaction == id]['Item'] )\n",
    "    \n",
    "    # konversi ke list \n",
    "    listed_transaksi = list(transaksi)\n",
    "    \n",
    "    # append list yang telah disort\n",
    "    list_transaksi.append( sorted(listed_transaksi) )"
   ]
  },
  {
   "cell_type": "code",
   "execution_count": 14,
   "metadata": {},
   "outputs": [
    {
     "data": {
      "text/plain": [
       "[['Bread'],\n",
       " ['Scandinavian'],\n",
       " ['Cookies', 'Hot chocolate', 'Jam'],\n",
       " ['Muffin'],\n",
       " ['Bread', 'Coffee', 'Pastry'],\n",
       " ['Medialuna', 'Muffin', 'Pastry'],\n",
       " ['Coffee', 'Medialuna', 'Pastry', 'Tea'],\n",
       " ['Bread', 'Pastry'],\n",
       " ['Bread', 'Muffin'],\n",
       " ['Medialuna', 'Scandinavian'],\n",
       " ['Bread', 'Medialuna'],\n",
       " ['Coffee', 'Jam', 'Pastry', 'Tartine', 'Tea'],\n",
       " ['Basket', 'Bread', 'Coffee'],\n",
       " ['Bread', 'Medialuna', 'Pastry'],\n",
       " ['Mineral water', 'Scandinavian']]"
      ]
     },
     "execution_count": 14,
     "metadata": {},
     "output_type": "execute_result"
    }
   ],
   "source": [
    "# view list transaksi\n",
    "list_transaksi[:15]"
   ]
  },
  {
   "cell_type": "code",
   "execution_count": 15,
   "metadata": {},
   "outputs": [],
   "source": [
    "# save list transaksi\n",
    "df_transaksi = pd.DataFrame(data=list_transaksi)\n",
    "df_transaksi.to_csv('../output/valid_transactions.csv', \n",
    "                    index=False, \n",
    "                    header=False)"
   ]
  },
  {
   "cell_type": "markdown",
   "metadata": {},
   "source": [
    "## Implementasi Apriori"
   ]
  },
  {
   "cell_type": "markdown",
   "metadata": {},
   "source": [
    "### Encode Item Transaksi"
   ]
  },
  {
   "cell_type": "code",
   "execution_count": 16,
   "metadata": {},
   "outputs": [
    {
     "data": {
      "text/plain": [
       "array([[False, False, False, ..., False, False, False],\n",
       "       [False, False, False, ..., False, False, False],\n",
       "       [False, False, False, ..., False, False, False],\n",
       "       ...,\n",
       "       [False, False, False, ..., False, False, False],\n",
       "       [False, False, False, ..., False, False, False],\n",
       "       [False, False, False, ..., False, False, False]])"
      ]
     },
     "execution_count": 16,
     "metadata": {},
     "output_type": "execute_result"
    }
   ],
   "source": [
    "from mlxtend.preprocessing import TransactionEncoder\n",
    "\n",
    "te = TransactionEncoder()\n",
    "te_array = te.fit_transform(list_transaksi)\n",
    "\n",
    "te_array"
   ]
  },
  {
   "cell_type": "code",
   "execution_count": 18,
   "metadata": {},
   "outputs": [],
   "source": [
    "# konversi ke dataframe\n",
    "encoded_transactions = pd.DataFrame(data=te_array, \n",
    "                                    columns=te.columns_)\n",
    "# simpan transaksi setelah diencode\n",
    "encoded_transactions.to_csv('../output/encoded_transactions.csv', \n",
    "                            index=False)"
   ]
  },
  {
   "cell_type": "code",
   "execution_count": 19,
   "metadata": {
    "scrolled": true
   },
   "outputs": [
    {
     "data": {
      "text/html": [
       "<div>\n",
       "<style scoped>\n",
       "    .dataframe tbody tr th:only-of-type {\n",
       "        vertical-align: middle;\n",
       "    }\n",
       "\n",
       "    .dataframe tbody tr th {\n",
       "        vertical-align: top;\n",
       "    }\n",
       "\n",
       "    .dataframe thead th {\n",
       "        text-align: right;\n",
       "    }\n",
       "</style>\n",
       "<table border=\"1\" class=\"dataframe\">\n",
       "  <thead>\n",
       "    <tr style=\"text-align: right;\">\n",
       "      <th></th>\n",
       "      <th>Adjustment</th>\n",
       "      <th>Afternoon with the baker</th>\n",
       "      <th>Alfajores</th>\n",
       "      <th>Argentina Night</th>\n",
       "      <th>Art Tray</th>\n",
       "      <th>Bacon</th>\n",
       "      <th>Baguette</th>\n",
       "      <th>Bakewell</th>\n",
       "      <th>Bare Popcorn</th>\n",
       "      <th>Basket</th>\n",
       "      <th>...</th>\n",
       "      <th>The BART</th>\n",
       "      <th>The Nomad</th>\n",
       "      <th>Tiffin</th>\n",
       "      <th>Toast</th>\n",
       "      <th>Truffles</th>\n",
       "      <th>Tshirt</th>\n",
       "      <th>Valentine's card</th>\n",
       "      <th>Vegan Feast</th>\n",
       "      <th>Vegan mincepie</th>\n",
       "      <th>Victorian Sponge</th>\n",
       "    </tr>\n",
       "  </thead>\n",
       "  <tbody>\n",
       "    <tr>\n",
       "      <th>0</th>\n",
       "      <td>False</td>\n",
       "      <td>False</td>\n",
       "      <td>False</td>\n",
       "      <td>False</td>\n",
       "      <td>False</td>\n",
       "      <td>False</td>\n",
       "      <td>False</td>\n",
       "      <td>False</td>\n",
       "      <td>False</td>\n",
       "      <td>False</td>\n",
       "      <td>...</td>\n",
       "      <td>False</td>\n",
       "      <td>False</td>\n",
       "      <td>False</td>\n",
       "      <td>False</td>\n",
       "      <td>False</td>\n",
       "      <td>False</td>\n",
       "      <td>False</td>\n",
       "      <td>False</td>\n",
       "      <td>False</td>\n",
       "      <td>False</td>\n",
       "    </tr>\n",
       "    <tr>\n",
       "      <th>1</th>\n",
       "      <td>False</td>\n",
       "      <td>False</td>\n",
       "      <td>False</td>\n",
       "      <td>False</td>\n",
       "      <td>False</td>\n",
       "      <td>False</td>\n",
       "      <td>False</td>\n",
       "      <td>False</td>\n",
       "      <td>False</td>\n",
       "      <td>False</td>\n",
       "      <td>...</td>\n",
       "      <td>False</td>\n",
       "      <td>False</td>\n",
       "      <td>False</td>\n",
       "      <td>False</td>\n",
       "      <td>False</td>\n",
       "      <td>False</td>\n",
       "      <td>False</td>\n",
       "      <td>False</td>\n",
       "      <td>False</td>\n",
       "      <td>False</td>\n",
       "    </tr>\n",
       "    <tr>\n",
       "      <th>2</th>\n",
       "      <td>False</td>\n",
       "      <td>False</td>\n",
       "      <td>False</td>\n",
       "      <td>False</td>\n",
       "      <td>False</td>\n",
       "      <td>False</td>\n",
       "      <td>False</td>\n",
       "      <td>False</td>\n",
       "      <td>False</td>\n",
       "      <td>False</td>\n",
       "      <td>...</td>\n",
       "      <td>False</td>\n",
       "      <td>False</td>\n",
       "      <td>False</td>\n",
       "      <td>False</td>\n",
       "      <td>False</td>\n",
       "      <td>False</td>\n",
       "      <td>False</td>\n",
       "      <td>False</td>\n",
       "      <td>False</td>\n",
       "      <td>False</td>\n",
       "    </tr>\n",
       "    <tr>\n",
       "      <th>3</th>\n",
       "      <td>False</td>\n",
       "      <td>False</td>\n",
       "      <td>False</td>\n",
       "      <td>False</td>\n",
       "      <td>False</td>\n",
       "      <td>False</td>\n",
       "      <td>False</td>\n",
       "      <td>False</td>\n",
       "      <td>False</td>\n",
       "      <td>False</td>\n",
       "      <td>...</td>\n",
       "      <td>False</td>\n",
       "      <td>False</td>\n",
       "      <td>False</td>\n",
       "      <td>False</td>\n",
       "      <td>False</td>\n",
       "      <td>False</td>\n",
       "      <td>False</td>\n",
       "      <td>False</td>\n",
       "      <td>False</td>\n",
       "      <td>False</td>\n",
       "    </tr>\n",
       "    <tr>\n",
       "      <th>4</th>\n",
       "      <td>False</td>\n",
       "      <td>False</td>\n",
       "      <td>False</td>\n",
       "      <td>False</td>\n",
       "      <td>False</td>\n",
       "      <td>False</td>\n",
       "      <td>False</td>\n",
       "      <td>False</td>\n",
       "      <td>False</td>\n",
       "      <td>False</td>\n",
       "      <td>...</td>\n",
       "      <td>False</td>\n",
       "      <td>False</td>\n",
       "      <td>False</td>\n",
       "      <td>False</td>\n",
       "      <td>False</td>\n",
       "      <td>False</td>\n",
       "      <td>False</td>\n",
       "      <td>False</td>\n",
       "      <td>False</td>\n",
       "      <td>False</td>\n",
       "    </tr>\n",
       "  </tbody>\n",
       "</table>\n",
       "<p>5 rows × 94 columns</p>\n",
       "</div>"
      ],
      "text/plain": [
       "   Adjustment  Afternoon with the baker  Alfajores  Argentina Night  Art Tray  \\\n",
       "0       False                     False      False            False     False   \n",
       "1       False                     False      False            False     False   \n",
       "2       False                     False      False            False     False   \n",
       "3       False                     False      False            False     False   \n",
       "4       False                     False      False            False     False   \n",
       "\n",
       "   Bacon  Baguette  Bakewell  Bare Popcorn  Basket  ...  The BART  The Nomad  \\\n",
       "0  False     False     False         False   False  ...     False      False   \n",
       "1  False     False     False         False   False  ...     False      False   \n",
       "2  False     False     False         False   False  ...     False      False   \n",
       "3  False     False     False         False   False  ...     False      False   \n",
       "4  False     False     False         False   False  ...     False      False   \n",
       "\n",
       "   Tiffin  Toast  Truffles  Tshirt  Valentine's card  Vegan Feast  \\\n",
       "0   False  False     False   False             False        False   \n",
       "1   False  False     False   False             False        False   \n",
       "2   False  False     False   False             False        False   \n",
       "3   False  False     False   False             False        False   \n",
       "4   False  False     False   False             False        False   \n",
       "\n",
       "   Vegan mincepie  Victorian Sponge  \n",
       "0           False             False  \n",
       "1           False             False  \n",
       "2           False             False  \n",
       "3           False             False  \n",
       "4           False             False  \n",
       "\n",
       "[5 rows x 94 columns]"
      ]
     },
     "execution_count": 19,
     "metadata": {},
     "output_type": "execute_result"
    }
   ],
   "source": [
    "encoded_transactions.head()"
   ]
  },
  {
   "cell_type": "markdown",
   "metadata": {},
   "source": [
    "### Cari Itemsets dengan support >= min_support"
   ]
  },
  {
   "cell_type": "markdown",
   "metadata": {},
   "source": [
    "Parameter yang ditentukan:\n",
    "- min_support: 0.005\n"
   ]
  },
  {
   "cell_type": "code",
   "execution_count": 20,
   "metadata": {},
   "outputs": [],
   "source": [
    "from mlxtend.frequent_patterns import apriori\n",
    "\n",
    "# frequent itemset dengan parameter min_support\n",
    "frequent_itemsets = apriori(df=encoded_transactions, \n",
    "                            min_support=0.005,\n",
    "                            use_colnames=True)\n",
    "\n",
    "# sort itemsets dengan support tertinggi\n",
    "frequent_itemsets.sort_values(by=['support'], \n",
    "                              ascending=False, \n",
    "                              inplace=True)\n",
    "\n",
    "# save frequent itemsets\n",
    "frequent_itemsets.to_csv('../output/frequent_itemsets.csv', \n",
    "                         index=False)"
   ]
  },
  {
   "cell_type": "markdown",
   "metadata": {},
   "source": [
    "### Cari Association Rule"
   ]
  },
  {
   "cell_type": "markdown",
   "metadata": {},
   "source": [
    "Parameter yang ditentukan:\n",
    "\n",
    "- confidence:  0.6\n",
    "- lift:        3.0 "
   ]
  },
  {
   "cell_type": "code",
   "execution_count": 23,
   "metadata": {},
   "outputs": [],
   "source": [
    "from mlxtend.frequent_patterns import association_rules\n",
    "\n",
    "# cari rule dengan lift\n",
    "assoc_rules = association_rules(df=frequent_itemsets, \n",
    "                                metric='lift', \n",
    "                                min_threshold=2.5)\n",
    "\n",
    "# sort association rules\n",
    "assoc_rules.sort_values(by=['lift'], \n",
    "                        ascending=False, \n",
    "                        inplace=True)"
   ]
  },
  {
   "cell_type": "code",
   "execution_count": 24,
   "metadata": {},
   "outputs": [
    {
     "data": {
      "text/html": [
       "<div>\n",
       "<style scoped>\n",
       "    .dataframe tbody tr th:only-of-type {\n",
       "        vertical-align: middle;\n",
       "    }\n",
       "\n",
       "    .dataframe tbody tr th {\n",
       "        vertical-align: top;\n",
       "    }\n",
       "\n",
       "    .dataframe thead th {\n",
       "        text-align: right;\n",
       "    }\n",
       "</style>\n",
       "<table border=\"1\" class=\"dataframe\">\n",
       "  <thead>\n",
       "    <tr style=\"text-align: right;\">\n",
       "      <th></th>\n",
       "      <th>antecedents</th>\n",
       "      <th>consequents</th>\n",
       "      <th>antecedent support</th>\n",
       "      <th>consequent support</th>\n",
       "      <th>support</th>\n",
       "      <th>confidence</th>\n",
       "      <th>lift</th>\n",
       "      <th>leverage</th>\n",
       "      <th>conviction</th>\n",
       "    </tr>\n",
       "  </thead>\n",
       "  <tbody>\n",
       "    <tr>\n",
       "      <th>3</th>\n",
       "      <td>(Coke)</td>\n",
       "      <td>(Sandwich)</td>\n",
       "      <td>0.019440</td>\n",
       "      <td>0.071844</td>\n",
       "      <td>0.005177</td>\n",
       "      <td>0.266304</td>\n",
       "      <td>3.706722</td>\n",
       "      <td>0.00378</td>\n",
       "      <td>1.265043</td>\n",
       "    </tr>\n",
       "    <tr>\n",
       "      <th>2</th>\n",
       "      <td>(Sandwich)</td>\n",
       "      <td>(Coke)</td>\n",
       "      <td>0.071844</td>\n",
       "      <td>0.019440</td>\n",
       "      <td>0.005177</td>\n",
       "      <td>0.072059</td>\n",
       "      <td>3.706722</td>\n",
       "      <td>0.00378</td>\n",
       "      <td>1.056705</td>\n",
       "    </tr>\n",
       "    <tr>\n",
       "      <th>0</th>\n",
       "      <td>(Juice)</td>\n",
       "      <td>(Cookies)</td>\n",
       "      <td>0.038563</td>\n",
       "      <td>0.054411</td>\n",
       "      <td>0.006128</td>\n",
       "      <td>0.158904</td>\n",
       "      <td>2.920442</td>\n",
       "      <td>0.00403</td>\n",
       "      <td>1.124234</td>\n",
       "    </tr>\n",
       "    <tr>\n",
       "      <th>1</th>\n",
       "      <td>(Cookies)</td>\n",
       "      <td>(Juice)</td>\n",
       "      <td>0.054411</td>\n",
       "      <td>0.038563</td>\n",
       "      <td>0.006128</td>\n",
       "      <td>0.112621</td>\n",
       "      <td>2.920442</td>\n",
       "      <td>0.00403</td>\n",
       "      <td>1.083457</td>\n",
       "    </tr>\n",
       "  </tbody>\n",
       "</table>\n",
       "</div>"
      ],
      "text/plain": [
       "  antecedents consequents  antecedent support  consequent support   support  \\\n",
       "3      (Coke)  (Sandwich)            0.019440            0.071844  0.005177   \n",
       "2  (Sandwich)      (Coke)            0.071844            0.019440  0.005177   \n",
       "0     (Juice)   (Cookies)            0.038563            0.054411  0.006128   \n",
       "1   (Cookies)     (Juice)            0.054411            0.038563  0.006128   \n",
       "\n",
       "   confidence      lift  leverage  conviction  \n",
       "3    0.266304  3.706722   0.00378    1.265043  \n",
       "2    0.072059  3.706722   0.00378    1.056705  \n",
       "0    0.158904  2.920442   0.00403    1.124234  \n",
       "1    0.112621  2.920442   0.00403    1.083457  "
      ]
     },
     "execution_count": 24,
     "metadata": {},
     "output_type": "execute_result"
    }
   ],
   "source": [
    "assoc_rules"
   ]
  },
  {
   "cell_type": "markdown",
   "metadata": {},
   "source": [
    "## Kesimpulan"
   ]
  },
  {
   "cell_type": "markdown",
   "metadata": {},
   "source": [
    "Diberikan kriterai awal yaitu, min_support=0.005, min_confidence=0.6, min_lift=3 dan min_length=2. \n",
    "Setelah dilakukan analisis, tidak ditemukan *association rule* yang memenuhi kriteria tersebut.\n",
    "\n",
    "Saya berinisiatif untuk mengubah parameter berikut:\n",
    "- min_lift=2.5\n",
    "- min_confidence=0.2\n",
    "\n",
    "Dari analisis dengan parameter baru, ditemukan *association rule* sebagai berikut:"
   ]
  },
  {
   "cell_type": "code",
   "execution_count": 25,
   "metadata": {},
   "outputs": [
    {
     "data": {
      "text/html": [
       "<div>\n",
       "<style scoped>\n",
       "    .dataframe tbody tr th:only-of-type {\n",
       "        vertical-align: middle;\n",
       "    }\n",
       "\n",
       "    .dataframe tbody tr th {\n",
       "        vertical-align: top;\n",
       "    }\n",
       "\n",
       "    .dataframe thead th {\n",
       "        text-align: right;\n",
       "    }\n",
       "</style>\n",
       "<table border=\"1\" class=\"dataframe\">\n",
       "  <thead>\n",
       "    <tr style=\"text-align: right;\">\n",
       "      <th></th>\n",
       "      <th>antecedents</th>\n",
       "      <th>consequents</th>\n",
       "      <th>antecedent support</th>\n",
       "      <th>consequent support</th>\n",
       "      <th>support</th>\n",
       "      <th>confidence</th>\n",
       "      <th>lift</th>\n",
       "      <th>leverage</th>\n",
       "      <th>conviction</th>\n",
       "    </tr>\n",
       "  </thead>\n",
       "  <tbody>\n",
       "    <tr>\n",
       "      <th>3</th>\n",
       "      <td>(Coke)</td>\n",
       "      <td>(Sandwich)</td>\n",
       "      <td>0.019440</td>\n",
       "      <td>0.071844</td>\n",
       "      <td>0.005177</td>\n",
       "      <td>0.266304</td>\n",
       "      <td>3.706722</td>\n",
       "      <td>0.00378</td>\n",
       "      <td>1.265043</td>\n",
       "    </tr>\n",
       "    <tr>\n",
       "      <th>2</th>\n",
       "      <td>(Sandwich)</td>\n",
       "      <td>(Coke)</td>\n",
       "      <td>0.071844</td>\n",
       "      <td>0.019440</td>\n",
       "      <td>0.005177</td>\n",
       "      <td>0.072059</td>\n",
       "      <td>3.706722</td>\n",
       "      <td>0.00378</td>\n",
       "      <td>1.056705</td>\n",
       "    </tr>\n",
       "    <tr>\n",
       "      <th>0</th>\n",
       "      <td>(Juice)</td>\n",
       "      <td>(Cookies)</td>\n",
       "      <td>0.038563</td>\n",
       "      <td>0.054411</td>\n",
       "      <td>0.006128</td>\n",
       "      <td>0.158904</td>\n",
       "      <td>2.920442</td>\n",
       "      <td>0.00403</td>\n",
       "      <td>1.124234</td>\n",
       "    </tr>\n",
       "    <tr>\n",
       "      <th>1</th>\n",
       "      <td>(Cookies)</td>\n",
       "      <td>(Juice)</td>\n",
       "      <td>0.054411</td>\n",
       "      <td>0.038563</td>\n",
       "      <td>0.006128</td>\n",
       "      <td>0.112621</td>\n",
       "      <td>2.920442</td>\n",
       "      <td>0.00403</td>\n",
       "      <td>1.083457</td>\n",
       "    </tr>\n",
       "  </tbody>\n",
       "</table>\n",
       "</div>"
      ],
      "text/plain": [
       "  antecedents consequents  antecedent support  consequent support   support  \\\n",
       "3      (Coke)  (Sandwich)            0.019440            0.071844  0.005177   \n",
       "2  (Sandwich)      (Coke)            0.071844            0.019440  0.005177   \n",
       "0     (Juice)   (Cookies)            0.038563            0.054411  0.006128   \n",
       "1   (Cookies)     (Juice)            0.054411            0.038563  0.006128   \n",
       "\n",
       "   confidence      lift  leverage  conviction  \n",
       "3    0.266304  3.706722   0.00378    1.265043  \n",
       "2    0.072059  3.706722   0.00378    1.056705  \n",
       "0    0.158904  2.920442   0.00403    1.124234  \n",
       "1    0.112621  2.920442   0.00403    1.083457  "
      ]
     },
     "execution_count": 25,
     "metadata": {},
     "output_type": "execute_result"
    }
   ],
   "source": [
    "assoc_rules"
   ]
  },
  {
   "cell_type": "markdown",
   "metadata": {},
   "source": [
    "## Referensi"
   ]
  },
  {
   "cell_type": "markdown",
   "metadata": {},
   "source": [
    "- [Fast Algorithms for Mining Association Rules](https://www.it.uu.se/edu/course/homepage/infoutv/ht08/vldb94_rj.pdf)\n",
    "- http://rasbt.github.io/mlxtend/api_subpackages/mlxtend.frequent_patterns/\n",
    "- http://rasbt.github.io/mlxtend/user_guide/frequent_patterns/apriori/\n",
    "- http://rasbt.github.io/mlxtend/user_guide/frequent_patterns/association_rules/"
   ]
  }
 ],
 "metadata": {
  "hide_input": false,
  "kernelspec": {
   "display_name": "Python 3",
   "language": "python",
   "name": "python3"
  },
  "language_info": {
   "codemirror_mode": {
    "name": "ipython",
    "version": 3
   },
   "file_extension": ".py",
   "mimetype": "text/x-python",
   "name": "python",
   "nbconvert_exporter": "python",
   "pygments_lexer": "ipython3",
   "version": "3.8.6"
  },
  "toc": {
   "base_numbering": 1,
   "nav_menu": {},
   "number_sections": false,
   "sideBar": true,
   "skip_h1_title": false,
   "title_cell": "Table of Contents",
   "title_sidebar": "Contents",
   "toc_cell": true,
   "toc_position": {},
   "toc_section_display": true,
   "toc_window_display": false
  }
 },
 "nbformat": 4,
 "nbformat_minor": 4
}
